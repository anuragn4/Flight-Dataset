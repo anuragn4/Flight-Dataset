{
 "cells": [
  {
   "cell_type": "code",
   "execution_count": 1,
   "metadata": {},
   "outputs": [],
   "source": [
    "import pandas as pd\n",
    "import numpy as np\n",
    "import matplotlib.pyplot as plt"
   ]
  },
  {
   "cell_type": "code",
   "execution_count": 4,
   "metadata": {},
   "outputs": [
    {
     "name": "stderr",
     "output_type": "stream",
     "text": [
      "C:\\ProgramData\\Anaconda3\\lib\\site-packages\\IPython\\core\\interactiveshell.py:2728: DtypeWarning: Columns (7,8) have mixed types. Specify dtype option on import or set low_memory=False.\n",
      "  interactivity=interactivity, compiler=compiler, result=result)\n"
     ]
    }
   ],
   "source": [
    "df_flight = pd.read_csv(\"flight-delays\\\\flights.csv\")"
   ]
  },
  {
   "cell_type": "code",
   "execution_count": 5,
   "metadata": {},
   "outputs": [
    {
     "data": {
      "text/plain": [
       "Index(['YEAR', 'MONTH', 'DAY', 'DAY_OF_WEEK', 'AIRLINE', 'FLIGHT_NUMBER',\n",
       "       'TAIL_NUMBER', 'ORIGIN_AIRPORT', 'DESTINATION_AIRPORT',\n",
       "       'SCHEDULED_DEPARTURE', 'DEPARTURE_TIME', 'DEPARTURE_DELAY', 'TAXI_OUT',\n",
       "       'WHEELS_OFF', 'SCHEDULED_TIME', 'ELAPSED_TIME', 'AIR_TIME', 'DISTANCE',\n",
       "       'WHEELS_ON', 'TAXI_IN', 'SCHEDULED_ARRIVAL', 'ARRIVAL_TIME',\n",
       "       'ARRIVAL_DELAY', 'DIVERTED', 'CANCELLED', 'CANCELLATION_REASON',\n",
       "       'AIR_SYSTEM_DELAY', 'SECURITY_DELAY', 'AIRLINE_DELAY',\n",
       "       'LATE_AIRCRAFT_DELAY', 'WEATHER_DELAY'],\n",
       "      dtype='object')"
      ]
     },
     "execution_count": 5,
     "metadata": {},
     "output_type": "execute_result"
    }
   ],
   "source": [
    "df_flight.columns"
   ]
  },
  {
   "cell_type": "code",
   "execution_count": 6,
   "metadata": {},
   "outputs": [],
   "source": [
    "#df_new = df_flight[df_flight['DEPARTURE_DELAY']<0]"
   ]
  },
  {
   "cell_type": "code",
   "execution_count": 7,
   "metadata": {},
   "outputs": [],
   "source": [
    "#df_new.groupby('AIRLINE')['DEPARTURE_DELAY'].agg(['size','mean','max','min'])"
   ]
  },
  {
   "cell_type": "code",
   "execution_count": 8,
   "metadata": {},
   "outputs": [],
   "source": [
    "#df_new['IS_LATE'] = df_new['DEPARTURE_DELAY']<0"
   ]
  },
  {
   "cell_type": "code",
   "execution_count": 9,
   "metadata": {},
   "outputs": [],
   "source": [
    "#df_new.groupby(['ORIGIN_AIRPORT'])['TAXI_OUT'].agg(['size','mean','max','min']).sort_values(by='mean', ascending=False)"
   ]
  },
  {
   "cell_type": "code",
   "execution_count": 10,
   "metadata": {},
   "outputs": [
    {
     "data": {
      "text/plain": [
       "YEAR                   object\n",
       "MONTH                  object\n",
       "DAY                    object\n",
       "DAY_OF_WEEK            object\n",
       "AIRLINE                object\n",
       "FLIGHT_NUMBER          object\n",
       "TAIL_NUMBER            object\n",
       "ORIGIN_AIRPORT         object\n",
       "DESTINATION_AIRPORT    object\n",
       "SCHEDULED_DEPARTURE    object\n",
       "DEPARTURE_TIME         object\n",
       "DEPARTURE_DELAY        object\n",
       "TAXI_OUT               object\n",
       "WHEELS_OFF             object\n",
       "SCHEDULED_TIME         object\n",
       "ELAPSED_TIME           object\n",
       "AIR_TIME               object\n",
       "DISTANCE               object\n",
       "WHEELS_ON              object\n",
       "TAXI_IN                object\n",
       "SCHEDULED_ARRIVAL      object\n",
       "ARRIVAL_TIME           object\n",
       "ARRIVAL_DELAY          object\n",
       "DIVERTED               object\n",
       "CANCELLED              object\n",
       "CANCELLATION_REASON    object\n",
       "AIR_SYSTEM_DELAY       object\n",
       "SECURITY_DELAY         object\n",
       "AIRLINE_DELAY          object\n",
       "LATE_AIRCRAFT_DELAY    object\n",
       "WEATHER_DELAY          object\n",
       "dtype: object"
      ]
     },
     "execution_count": 10,
     "metadata": {},
     "output_type": "execute_result"
    }
   ],
   "source": [
    "tab_info = pd.DataFrame(df_flight.dtypes).T.rename(index={0:'column type'})\n",
    "tab_info = tab_info.append(pd.DataFrame(df_flight.isnull().sum()).T.rename(index={0:'null values'}))\n",
    "tab_info = tab_info.append(pd.DataFrame(100*df_flight.isnull().sum()/df_flight.shape[0]).T.rename(index={0:'perc null values'}))\n",
    "tab_info.dtypes\n"
   ]
  },
  {
   "cell_type": "code",
   "execution_count": 11,
   "metadata": {},
   "outputs": [
    {
     "data": {
      "text/html": [
       "<div>\n",
       "<style scoped>\n",
       "    .dataframe tbody tr th:only-of-type {\n",
       "        vertical-align: middle;\n",
       "    }\n",
       "\n",
       "    .dataframe tbody tr th {\n",
       "        vertical-align: top;\n",
       "    }\n",
       "\n",
       "    .dataframe thead th {\n",
       "        text-align: right;\n",
       "    }\n",
       "</style>\n",
       "<table border=\"1\" class=\"dataframe\">\n",
       "  <thead>\n",
       "    <tr style=\"text-align: right;\">\n",
       "      <th></th>\n",
       "      <th>YEAR</th>\n",
       "      <th>MONTH</th>\n",
       "      <th>DAY</th>\n",
       "      <th>DAY_OF_WEEK</th>\n",
       "      <th>AIRLINE</th>\n",
       "      <th>FLIGHT_NUMBER</th>\n",
       "      <th>TAIL_NUMBER</th>\n",
       "      <th>ORIGIN_AIRPORT</th>\n",
       "      <th>DESTINATION_AIRPORT</th>\n",
       "      <th>SCHEDULED_DEPARTURE</th>\n",
       "      <th>...</th>\n",
       "      <th>ARRIVAL_TIME</th>\n",
       "      <th>ARRIVAL_DELAY</th>\n",
       "      <th>DIVERTED</th>\n",
       "      <th>CANCELLED</th>\n",
       "      <th>CANCELLATION_REASON</th>\n",
       "      <th>AIR_SYSTEM_DELAY</th>\n",
       "      <th>SECURITY_DELAY</th>\n",
       "      <th>AIRLINE_DELAY</th>\n",
       "      <th>LATE_AIRCRAFT_DELAY</th>\n",
       "      <th>WEATHER_DELAY</th>\n",
       "    </tr>\n",
       "  </thead>\n",
       "  <tbody>\n",
       "    <tr>\n",
       "      <th>column type</th>\n",
       "      <td>int64</td>\n",
       "      <td>int64</td>\n",
       "      <td>int64</td>\n",
       "      <td>int64</td>\n",
       "      <td>object</td>\n",
       "      <td>int64</td>\n",
       "      <td>object</td>\n",
       "      <td>object</td>\n",
       "      <td>object</td>\n",
       "      <td>int64</td>\n",
       "      <td>...</td>\n",
       "      <td>float64</td>\n",
       "      <td>float64</td>\n",
       "      <td>int64</td>\n",
       "      <td>int64</td>\n",
       "      <td>object</td>\n",
       "      <td>float64</td>\n",
       "      <td>float64</td>\n",
       "      <td>float64</td>\n",
       "      <td>float64</td>\n",
       "      <td>float64</td>\n",
       "    </tr>\n",
       "    <tr>\n",
       "      <th>null values</th>\n",
       "      <td>0</td>\n",
       "      <td>0</td>\n",
       "      <td>0</td>\n",
       "      <td>0</td>\n",
       "      <td>0</td>\n",
       "      <td>0</td>\n",
       "      <td>14721</td>\n",
       "      <td>0</td>\n",
       "      <td>0</td>\n",
       "      <td>0</td>\n",
       "      <td>...</td>\n",
       "      <td>92513</td>\n",
       "      <td>105071</td>\n",
       "      <td>0</td>\n",
       "      <td>0</td>\n",
       "      <td>5729195</td>\n",
       "      <td>4755640</td>\n",
       "      <td>4755640</td>\n",
       "      <td>4755640</td>\n",
       "      <td>4755640</td>\n",
       "      <td>4755640</td>\n",
       "    </tr>\n",
       "    <tr>\n",
       "      <th>perc null values</th>\n",
       "      <td>0</td>\n",
       "      <td>0</td>\n",
       "      <td>0</td>\n",
       "      <td>0</td>\n",
       "      <td>0</td>\n",
       "      <td>0</td>\n",
       "      <td>0.252978</td>\n",
       "      <td>0</td>\n",
       "      <td>0</td>\n",
       "      <td>0</td>\n",
       "      <td>...</td>\n",
       "      <td>1.58982</td>\n",
       "      <td>1.80563</td>\n",
       "      <td>0</td>\n",
       "      <td>0</td>\n",
       "      <td>98.4554</td>\n",
       "      <td>81.725</td>\n",
       "      <td>81.725</td>\n",
       "      <td>81.725</td>\n",
       "      <td>81.725</td>\n",
       "      <td>81.725</td>\n",
       "    </tr>\n",
       "  </tbody>\n",
       "</table>\n",
       "<p>3 rows × 31 columns</p>\n",
       "</div>"
      ],
      "text/plain": [
       "                   YEAR  MONTH    DAY DAY_OF_WEEK AIRLINE FLIGHT_NUMBER  \\\n",
       "column type       int64  int64  int64       int64  object         int64   \n",
       "null values           0      0      0           0       0             0   \n",
       "perc null values      0      0      0           0       0             0   \n",
       "\n",
       "                 TAIL_NUMBER ORIGIN_AIRPORT DESTINATION_AIRPORT  \\\n",
       "column type           object         object              object   \n",
       "null values            14721              0                   0   \n",
       "perc null values    0.252978              0                   0   \n",
       "\n",
       "                 SCHEDULED_DEPARTURE      ...      ARRIVAL_TIME ARRIVAL_DELAY  \\\n",
       "column type                    int64      ...           float64       float64   \n",
       "null values                        0      ...             92513        105071   \n",
       "perc null values                   0      ...           1.58982       1.80563   \n",
       "\n",
       "                 DIVERTED CANCELLED CANCELLATION_REASON AIR_SYSTEM_DELAY  \\\n",
       "column type         int64     int64              object          float64   \n",
       "null values             0         0             5729195          4755640   \n",
       "perc null values        0         0             98.4554           81.725   \n",
       "\n",
       "                 SECURITY_DELAY AIRLINE_DELAY LATE_AIRCRAFT_DELAY  \\\n",
       "column type             float64       float64             float64   \n",
       "null values             4755640       4755640             4755640   \n",
       "perc null values         81.725        81.725              81.725   \n",
       "\n",
       "                 WEATHER_DELAY  \n",
       "column type            float64  \n",
       "null values            4755640  \n",
       "perc null values        81.725  \n",
       "\n",
       "[3 rows x 31 columns]"
      ]
     },
     "execution_count": 11,
     "metadata": {},
     "output_type": "execute_result"
    }
   ],
   "source": [
    "tab_info.head()"
   ]
  },
  {
   "cell_type": "code",
   "execution_count": 12,
   "metadata": {},
   "outputs": [],
   "source": [
    "perc_null = tab_info.iloc[2]\n",
    "perc_null_columns = perc_null.index\n",
    "null_columns = [x for x in perc_null_columns if perc_null[x]>70] "
   ]
  },
  {
   "cell_type": "code",
   "execution_count": 13,
   "metadata": {},
   "outputs": [
    {
     "data": {
      "text/plain": [
       "(5714008, 25)"
      ]
     },
     "execution_count": 13,
     "metadata": {},
     "output_type": "execute_result"
    }
   ],
   "source": [
    "df_new = df_flight.drop(axis=1,columns=null_columns)\n",
    "df = df_new.dropna(axis=0,how='any')\n",
    "df.shape"
   ]
  },
  {
   "cell_type": "code",
   "execution_count": 14,
   "metadata": {},
   "outputs": [
    {
     "name": "stderr",
     "output_type": "stream",
     "text": [
      "C:\\ProgramData\\Anaconda3\\lib\\site-packages\\ipykernel_launcher.py:2: SettingWithCopyWarning: \n",
      "A value is trying to be set on a copy of a slice from a DataFrame.\n",
      "Try using .loc[row_indexer,col_indexer] = value instead\n",
      "\n",
      "See the caveats in the documentation: http://pandas.pydata.org/pandas-docs/stable/indexing.html#indexing-view-versus-copy\n",
      "  \n"
     ]
    },
    {
     "data": {
      "text/html": [
       "<div>\n",
       "<style scoped>\n",
       "    .dataframe tbody tr th:only-of-type {\n",
       "        vertical-align: middle;\n",
       "    }\n",
       "\n",
       "    .dataframe tbody tr th {\n",
       "        vertical-align: top;\n",
       "    }\n",
       "\n",
       "    .dataframe thead th {\n",
       "        text-align: right;\n",
       "    }\n",
       "</style>\n",
       "<table border=\"1\" class=\"dataframe\">\n",
       "  <thead>\n",
       "    <tr style=\"text-align: right;\">\n",
       "      <th></th>\n",
       "      <th>DAY_OF_WEEK</th>\n",
       "      <th>AIRLINE</th>\n",
       "      <th>FLIGHT_NUMBER</th>\n",
       "      <th>TAIL_NUMBER</th>\n",
       "      <th>ORIGIN_AIRPORT</th>\n",
       "      <th>DESTINATION_AIRPORT</th>\n",
       "      <th>SCHEDULED_DEPARTURE</th>\n",
       "      <th>DEPARTURE_TIME</th>\n",
       "      <th>DEPARTURE_DELAY</th>\n",
       "      <th>TAXI_OUT</th>\n",
       "      <th>...</th>\n",
       "      <th>AIR_TIME</th>\n",
       "      <th>DISTANCE</th>\n",
       "      <th>WHEELS_ON</th>\n",
       "      <th>TAXI_IN</th>\n",
       "      <th>SCHEDULED_ARRIVAL</th>\n",
       "      <th>ARRIVAL_TIME</th>\n",
       "      <th>ARRIVAL_DELAY</th>\n",
       "      <th>DIVERTED</th>\n",
       "      <th>CANCELLED</th>\n",
       "      <th>DATE</th>\n",
       "    </tr>\n",
       "  </thead>\n",
       "  <tbody>\n",
       "    <tr>\n",
       "      <th>0</th>\n",
       "      <td>4</td>\n",
       "      <td>AS</td>\n",
       "      <td>98</td>\n",
       "      <td>N407AS</td>\n",
       "      <td>ANC</td>\n",
       "      <td>SEA</td>\n",
       "      <td>5</td>\n",
       "      <td>2354.0</td>\n",
       "      <td>-11.0</td>\n",
       "      <td>21.0</td>\n",
       "      <td>...</td>\n",
       "      <td>169.0</td>\n",
       "      <td>1448</td>\n",
       "      <td>404.0</td>\n",
       "      <td>4.0</td>\n",
       "      <td>430</td>\n",
       "      <td>408.0</td>\n",
       "      <td>-22.0</td>\n",
       "      <td>0</td>\n",
       "      <td>0</td>\n",
       "      <td>2015-01-01</td>\n",
       "    </tr>\n",
       "    <tr>\n",
       "      <th>1</th>\n",
       "      <td>4</td>\n",
       "      <td>AA</td>\n",
       "      <td>2336</td>\n",
       "      <td>N3KUAA</td>\n",
       "      <td>LAX</td>\n",
       "      <td>PBI</td>\n",
       "      <td>10</td>\n",
       "      <td>2.0</td>\n",
       "      <td>-8.0</td>\n",
       "      <td>12.0</td>\n",
       "      <td>...</td>\n",
       "      <td>263.0</td>\n",
       "      <td>2330</td>\n",
       "      <td>737.0</td>\n",
       "      <td>4.0</td>\n",
       "      <td>750</td>\n",
       "      <td>741.0</td>\n",
       "      <td>-9.0</td>\n",
       "      <td>0</td>\n",
       "      <td>0</td>\n",
       "      <td>2015-01-01</td>\n",
       "    </tr>\n",
       "    <tr>\n",
       "      <th>2</th>\n",
       "      <td>4</td>\n",
       "      <td>US</td>\n",
       "      <td>840</td>\n",
       "      <td>N171US</td>\n",
       "      <td>SFO</td>\n",
       "      <td>CLT</td>\n",
       "      <td>20</td>\n",
       "      <td>18.0</td>\n",
       "      <td>-2.0</td>\n",
       "      <td>16.0</td>\n",
       "      <td>...</td>\n",
       "      <td>266.0</td>\n",
       "      <td>2296</td>\n",
       "      <td>800.0</td>\n",
       "      <td>11.0</td>\n",
       "      <td>806</td>\n",
       "      <td>811.0</td>\n",
       "      <td>5.0</td>\n",
       "      <td>0</td>\n",
       "      <td>0</td>\n",
       "      <td>2015-01-01</td>\n",
       "    </tr>\n",
       "    <tr>\n",
       "      <th>3</th>\n",
       "      <td>4</td>\n",
       "      <td>AA</td>\n",
       "      <td>258</td>\n",
       "      <td>N3HYAA</td>\n",
       "      <td>LAX</td>\n",
       "      <td>MIA</td>\n",
       "      <td>20</td>\n",
       "      <td>15.0</td>\n",
       "      <td>-5.0</td>\n",
       "      <td>15.0</td>\n",
       "      <td>...</td>\n",
       "      <td>258.0</td>\n",
       "      <td>2342</td>\n",
       "      <td>748.0</td>\n",
       "      <td>8.0</td>\n",
       "      <td>805</td>\n",
       "      <td>756.0</td>\n",
       "      <td>-9.0</td>\n",
       "      <td>0</td>\n",
       "      <td>0</td>\n",
       "      <td>2015-01-01</td>\n",
       "    </tr>\n",
       "    <tr>\n",
       "      <th>4</th>\n",
       "      <td>4</td>\n",
       "      <td>AS</td>\n",
       "      <td>135</td>\n",
       "      <td>N527AS</td>\n",
       "      <td>SEA</td>\n",
       "      <td>ANC</td>\n",
       "      <td>25</td>\n",
       "      <td>24.0</td>\n",
       "      <td>-1.0</td>\n",
       "      <td>11.0</td>\n",
       "      <td>...</td>\n",
       "      <td>199.0</td>\n",
       "      <td>1448</td>\n",
       "      <td>254.0</td>\n",
       "      <td>5.0</td>\n",
       "      <td>320</td>\n",
       "      <td>259.0</td>\n",
       "      <td>-21.0</td>\n",
       "      <td>0</td>\n",
       "      <td>0</td>\n",
       "      <td>2015-01-01</td>\n",
       "    </tr>\n",
       "  </tbody>\n",
       "</table>\n",
       "<p>5 rows × 23 columns</p>\n",
       "</div>"
      ],
      "text/plain": [
       "   DAY_OF_WEEK AIRLINE  FLIGHT_NUMBER TAIL_NUMBER ORIGIN_AIRPORT  \\\n",
       "0            4      AS             98      N407AS            ANC   \n",
       "1            4      AA           2336      N3KUAA            LAX   \n",
       "2            4      US            840      N171US            SFO   \n",
       "3            4      AA            258      N3HYAA            LAX   \n",
       "4            4      AS            135      N527AS            SEA   \n",
       "\n",
       "  DESTINATION_AIRPORT  SCHEDULED_DEPARTURE  DEPARTURE_TIME  DEPARTURE_DELAY  \\\n",
       "0                 SEA                    5          2354.0            -11.0   \n",
       "1                 PBI                   10             2.0             -8.0   \n",
       "2                 CLT                   20            18.0             -2.0   \n",
       "3                 MIA                   20            15.0             -5.0   \n",
       "4                 ANC                   25            24.0             -1.0   \n",
       "\n",
       "   TAXI_OUT    ...      AIR_TIME  DISTANCE  WHEELS_ON  TAXI_IN  \\\n",
       "0      21.0    ...         169.0      1448      404.0      4.0   \n",
       "1      12.0    ...         263.0      2330      737.0      4.0   \n",
       "2      16.0    ...         266.0      2296      800.0     11.0   \n",
       "3      15.0    ...         258.0      2342      748.0      8.0   \n",
       "4      11.0    ...         199.0      1448      254.0      5.0   \n",
       "\n",
       "   SCHEDULED_ARRIVAL  ARRIVAL_TIME  ARRIVAL_DELAY  DIVERTED  CANCELLED  \\\n",
       "0                430         408.0          -22.0         0          0   \n",
       "1                750         741.0           -9.0         0          0   \n",
       "2                806         811.0            5.0         0          0   \n",
       "3                805         756.0           -9.0         0          0   \n",
       "4                320         259.0          -21.0         0          0   \n",
       "\n",
       "        DATE  \n",
       "0 2015-01-01  \n",
       "1 2015-01-01  \n",
       "2 2015-01-01  \n",
       "3 2015-01-01  \n",
       "4 2015-01-01  \n",
       "\n",
       "[5 rows x 23 columns]"
      ]
     },
     "execution_count": 14,
     "metadata": {},
     "output_type": "execute_result"
    }
   ],
   "source": [
    "#df.groupby(['ORIGIN_AIRPORT','DESTINATION_AIRPORT','AIRLINE']).agg('size').sort_values(ascending=False)\n",
    "df['DATE'] = pd.to_datetime(df[['YEAR','MONTH','DAY']])\n",
    "df = df.drop(axis=1,columns=['YEAR','MONTH','DAY'])\n",
    "df.head()\n"
   ]
  },
  {
   "cell_type": "code",
   "execution_count": 15,
   "metadata": {},
   "outputs": [
    {
     "data": {
      "text/plain": [
       "0.08967900306290567"
      ]
     },
     "execution_count": 15,
     "metadata": {},
     "output_type": "execute_result"
    }
   ],
   "source": [
    "## Delay with respect to departure time\n",
    "## During early morning, less flights gets delayed. During busy time, more flights gets delayed\n",
    "\n",
    "early_morning_flights = df[(df['SCHEDULED_DEPARTURE'] >200) & (df['SCHEDULED_DEPARTURE'] <800)]\n",
    "total_flights = early_morning_flights.shape[0]\n",
    "late_flights = early_morning_flights[early_morning_flights['DEPARTURE_DELAY']>10].shape[0]\n",
    "per_late = late_flights/total_flights\n",
    "per_late"
   ]
  },
  {
   "cell_type": "code",
   "execution_count": 16,
   "metadata": {},
   "outputs": [
    {
     "data": {
      "text/html": [
       "<div>\n",
       "<style scoped>\n",
       "    .dataframe tbody tr th:only-of-type {\n",
       "        vertical-align: middle;\n",
       "    }\n",
       "\n",
       "    .dataframe tbody tr th {\n",
       "        vertical-align: top;\n",
       "    }\n",
       "\n",
       "    .dataframe thead th {\n",
       "        text-align: right;\n",
       "    }\n",
       "</style>\n",
       "<table border=\"1\" class=\"dataframe\">\n",
       "  <thead>\n",
       "    <tr style=\"text-align: right;\">\n",
       "      <th></th>\n",
       "      <th>size</th>\n",
       "      <th>mean</th>\n",
       "      <th>max</th>\n",
       "      <th>min</th>\n",
       "    </tr>\n",
       "    <tr>\n",
       "      <th>AIRLINE</th>\n",
       "      <th></th>\n",
       "      <th></th>\n",
       "      <th></th>\n",
       "      <th></th>\n",
       "    </tr>\n",
       "  </thead>\n",
       "  <tbody>\n",
       "    <tr>\n",
       "      <th>AA</th>\n",
       "      <td>712935</td>\n",
       "      <td>8.826106</td>\n",
       "      <td>1988.0</td>\n",
       "      <td>-68.0</td>\n",
       "    </tr>\n",
       "    <tr>\n",
       "      <th>AS</th>\n",
       "      <td>171439</td>\n",
       "      <td>1.718926</td>\n",
       "      <td>963.0</td>\n",
       "      <td>-82.0</td>\n",
       "    </tr>\n",
       "    <tr>\n",
       "      <th>B6</th>\n",
       "      <td>262042</td>\n",
       "      <td>11.442467</td>\n",
       "      <td>1006.0</td>\n",
       "      <td>-31.0</td>\n",
       "    </tr>\n",
       "    <tr>\n",
       "      <th>DL</th>\n",
       "      <td>870275</td>\n",
       "      <td>7.313300</td>\n",
       "      <td>1289.0</td>\n",
       "      <td>-61.0</td>\n",
       "    </tr>\n",
       "    <tr>\n",
       "      <th>EV</th>\n",
       "      <td>554752</td>\n",
       "      <td>8.615598</td>\n",
       "      <td>1236.0</td>\n",
       "      <td>-55.0</td>\n",
       "    </tr>\n",
       "    <tr>\n",
       "      <th>F9</th>\n",
       "      <td>90090</td>\n",
       "      <td>13.303352</td>\n",
       "      <td>1112.0</td>\n",
       "      <td>-46.0</td>\n",
       "    </tr>\n",
       "    <tr>\n",
       "      <th>HA</th>\n",
       "      <td>76041</td>\n",
       "      <td>0.469918</td>\n",
       "      <td>1433.0</td>\n",
       "      <td>-27.0</td>\n",
       "    </tr>\n",
       "    <tr>\n",
       "      <th>MQ</th>\n",
       "      <td>278791</td>\n",
       "      <td>9.967187</td>\n",
       "      <td>1544.0</td>\n",
       "      <td>-36.0</td>\n",
       "    </tr>\n",
       "    <tr>\n",
       "      <th>NK</th>\n",
       "      <td>115193</td>\n",
       "      <td>15.883101</td>\n",
       "      <td>836.0</td>\n",
       "      <td>-37.0</td>\n",
       "    </tr>\n",
       "    <tr>\n",
       "      <th>OO</th>\n",
       "      <td>576814</td>\n",
       "      <td>7.736083</td>\n",
       "      <td>1378.0</td>\n",
       "      <td>-56.0</td>\n",
       "    </tr>\n",
       "    <tr>\n",
       "      <th>UA</th>\n",
       "      <td>507762</td>\n",
       "      <td>14.333056</td>\n",
       "      <td>1314.0</td>\n",
       "      <td>-40.0</td>\n",
       "    </tr>\n",
       "    <tr>\n",
       "      <th>US</th>\n",
       "      <td>194223</td>\n",
       "      <td>6.081000</td>\n",
       "      <td>759.0</td>\n",
       "      <td>-28.0</td>\n",
       "    </tr>\n",
       "    <tr>\n",
       "      <th>VX</th>\n",
       "      <td>61248</td>\n",
       "      <td>8.993486</td>\n",
       "      <td>644.0</td>\n",
       "      <td>-24.0</td>\n",
       "    </tr>\n",
       "    <tr>\n",
       "      <th>WN</th>\n",
       "      <td>1242403</td>\n",
       "      <td>10.517183</td>\n",
       "      <td>665.0</td>\n",
       "      <td>-28.0</td>\n",
       "    </tr>\n",
       "  </tbody>\n",
       "</table>\n",
       "</div>"
      ],
      "text/plain": [
       "            size       mean     max   min\n",
       "AIRLINE                                  \n",
       "AA        712935   8.826106  1988.0 -68.0\n",
       "AS        171439   1.718926   963.0 -82.0\n",
       "B6        262042  11.442467  1006.0 -31.0\n",
       "DL        870275   7.313300  1289.0 -61.0\n",
       "EV        554752   8.615598  1236.0 -55.0\n",
       "F9         90090  13.303352  1112.0 -46.0\n",
       "HA         76041   0.469918  1433.0 -27.0\n",
       "MQ        278791   9.967187  1544.0 -36.0\n",
       "NK        115193  15.883101   836.0 -37.0\n",
       "OO        576814   7.736083  1378.0 -56.0\n",
       "UA        507762  14.333056  1314.0 -40.0\n",
       "US        194223   6.081000   759.0 -28.0\n",
       "VX         61248   8.993486   644.0 -24.0\n",
       "WN       1242403  10.517183   665.0 -28.0"
      ]
     },
     "execution_count": 16,
     "metadata": {},
     "output_type": "execute_result"
    }
   ],
   "source": [
    "## Departure delay with respect to different airlines\n",
    "\n",
    "df.groupby('AIRLINE')['DEPARTURE_DELAY'].agg(['size','mean','max','min'])"
   ]
  },
  {
   "cell_type": "code",
   "execution_count": 17,
   "metadata": {},
   "outputs": [
    {
     "data": {
      "text/html": [
       "<div>\n",
       "<style scoped>\n",
       "    .dataframe tbody tr th:only-of-type {\n",
       "        vertical-align: middle;\n",
       "    }\n",
       "\n",
       "    .dataframe tbody tr th {\n",
       "        vertical-align: top;\n",
       "    }\n",
       "\n",
       "    .dataframe thead th {\n",
       "        text-align: right;\n",
       "    }\n",
       "</style>\n",
       "<table border=\"1\" class=\"dataframe\">\n",
       "  <thead>\n",
       "    <tr style=\"text-align: right;\">\n",
       "      <th></th>\n",
       "      <th>count</th>\n",
       "      <th>mean</th>\n",
       "      <th>min</th>\n",
       "      <th>max</th>\n",
       "    </tr>\n",
       "    <tr>\n",
       "      <th>AIRLINE</th>\n",
       "      <th></th>\n",
       "      <th></th>\n",
       "      <th></th>\n",
       "      <th></th>\n",
       "    </tr>\n",
       "  </thead>\n",
       "  <tbody>\n",
       "    <tr>\n",
       "      <th>AA</th>\n",
       "      <td>434879</td>\n",
       "      <td>-4.775857</td>\n",
       "      <td>-68.0</td>\n",
       "      <td>-1.0</td>\n",
       "    </tr>\n",
       "    <tr>\n",
       "      <th>AS</th>\n",
       "      <td>121005</td>\n",
       "      <td>-6.827974</td>\n",
       "      <td>-82.0</td>\n",
       "      <td>-1.0</td>\n",
       "    </tr>\n",
       "    <tr>\n",
       "      <th>B6</th>\n",
       "      <td>146884</td>\n",
       "      <td>-5.524019</td>\n",
       "      <td>-31.0</td>\n",
       "      <td>-1.0</td>\n",
       "    </tr>\n",
       "    <tr>\n",
       "      <th>DL</th>\n",
       "      <td>521756</td>\n",
       "      <td>-3.747482</td>\n",
       "      <td>-61.0</td>\n",
       "      <td>-1.0</td>\n",
       "    </tr>\n",
       "    <tr>\n",
       "      <th>EV</th>\n",
       "      <td>364442</td>\n",
       "      <td>-5.694056</td>\n",
       "      <td>-55.0</td>\n",
       "      <td>-1.0</td>\n",
       "    </tr>\n",
       "    <tr>\n",
       "      <th>F9</th>\n",
       "      <td>52058</td>\n",
       "      <td>-6.687733</td>\n",
       "      <td>-46.0</td>\n",
       "      <td>-1.0</td>\n",
       "    </tr>\n",
       "    <tr>\n",
       "      <th>HA</th>\n",
       "      <td>52794</td>\n",
       "      <td>-5.721635</td>\n",
       "      <td>-27.0</td>\n",
       "      <td>-1.0</td>\n",
       "    </tr>\n",
       "    <tr>\n",
       "      <th>MQ</th>\n",
       "      <td>170992</td>\n",
       "      <td>-5.403241</td>\n",
       "      <td>-36.0</td>\n",
       "      <td>-1.0</td>\n",
       "    </tr>\n",
       "    <tr>\n",
       "      <th>NK</th>\n",
       "      <td>58576</td>\n",
       "      <td>-5.845619</td>\n",
       "      <td>-37.0</td>\n",
       "      <td>-1.0</td>\n",
       "    </tr>\n",
       "    <tr>\n",
       "      <th>OO</th>\n",
       "      <td>379274</td>\n",
       "      <td>-5.807756</td>\n",
       "      <td>-56.0</td>\n",
       "      <td>-1.0</td>\n",
       "    </tr>\n",
       "    <tr>\n",
       "      <th>UA</th>\n",
       "      <td>224353</td>\n",
       "      <td>-4.486795</td>\n",
       "      <td>-40.0</td>\n",
       "      <td>-1.0</td>\n",
       "    </tr>\n",
       "    <tr>\n",
       "      <th>US</th>\n",
       "      <td>122772</td>\n",
       "      <td>-4.766559</td>\n",
       "      <td>-28.0</td>\n",
       "      <td>-1.0</td>\n",
       "    </tr>\n",
       "    <tr>\n",
       "      <th>VX</th>\n",
       "      <td>34075</td>\n",
       "      <td>-4.519237</td>\n",
       "      <td>-24.0</td>\n",
       "      <td>-1.0</td>\n",
       "    </tr>\n",
       "    <tr>\n",
       "      <th>WN</th>\n",
       "      <td>586657</td>\n",
       "      <td>-3.556243</td>\n",
       "      <td>-28.0</td>\n",
       "      <td>-1.0</td>\n",
       "    </tr>\n",
       "  </tbody>\n",
       "</table>\n",
       "</div>"
      ],
      "text/plain": [
       "          count      mean   min  max\n",
       "AIRLINE                             \n",
       "AA       434879 -4.775857 -68.0 -1.0\n",
       "AS       121005 -6.827974 -82.0 -1.0\n",
       "B6       146884 -5.524019 -31.0 -1.0\n",
       "DL       521756 -3.747482 -61.0 -1.0\n",
       "EV       364442 -5.694056 -55.0 -1.0\n",
       "F9        52058 -6.687733 -46.0 -1.0\n",
       "HA        52794 -5.721635 -27.0 -1.0\n",
       "MQ       170992 -5.403241 -36.0 -1.0\n",
       "NK        58576 -5.845619 -37.0 -1.0\n",
       "OO       379274 -5.807756 -56.0 -1.0\n",
       "UA       224353 -4.486795 -40.0 -1.0\n",
       "US       122772 -4.766559 -28.0 -1.0\n",
       "VX        34075 -4.519237 -24.0 -1.0\n",
       "WN       586657 -3.556243 -28.0 -1.0"
      ]
     },
     "execution_count": 17,
     "metadata": {},
     "output_type": "execute_result"
    }
   ],
   "source": [
    "df_early = df[df['DEPARTURE_DELAY']<0]\n",
    "df_early.groupby('AIRLINE')['DEPARTURE_DELAY'].agg(['count','mean','min','max'])"
   ]
  },
  {
   "cell_type": "code",
   "execution_count": 18,
   "metadata": {},
   "outputs": [
    {
     "data": {
      "text/plain": [
       "ORIGIN_AIRPORT  DESTINATION_AIRPORT\n",
       "SFO             LAX                    13400\n",
       "LAX             SFO                    13109\n",
       "JFK             LAX                    11853\n",
       "LAX             JFK                    11851\n",
       "LAS             LAX                     9651\n",
       "Name: AIRLINE, dtype: int64"
      ]
     },
     "execution_count": 18,
     "metadata": {},
     "output_type": "execute_result"
    }
   ],
   "source": [
    "## Most number of flights between pair of airports\n",
    "\n",
    "temp = df.groupby(['ORIGIN_AIRPORT','DESTINATION_AIRPORT'])['AIRLINE'].agg('count').sort_values(ascending=False)\n",
    "temp[:5]\n"
   ]
  },
  {
   "cell_type": "code",
   "execution_count": 19,
   "metadata": {},
   "outputs": [
    {
     "data": {
      "text/plain": [
       "0.3011472275334608"
      ]
     },
     "execution_count": 19,
     "metadata": {},
     "output_type": "execute_result"
    }
   ],
   "source": [
    "## Percentage of flights that gets delayed by 10 mins from CHO airport\n",
    "\n",
    "a1 = (df[(df['DEPARTURE_DELAY']>0) & (df['ORIGIN_AIRPORT'].str.contains('CHO'))].shape[0])\n",
    "a2 = df[df['ORIGIN_AIRPORT'].str.contains('CHO') == True].shape[0]\n",
    "\n",
    "a1/a2\n",
    "\n",
    "\n"
   ]
  },
  {
   "cell_type": "code",
   "execution_count": 20,
   "metadata": {},
   "outputs": [
    {
     "data": {
      "text/html": [
       "<div>\n",
       "<style scoped>\n",
       "    .dataframe tbody tr th:only-of-type {\n",
       "        vertical-align: middle;\n",
       "    }\n",
       "\n",
       "    .dataframe tbody tr th {\n",
       "        vertical-align: top;\n",
       "    }\n",
       "\n",
       "    .dataframe thead th {\n",
       "        text-align: right;\n",
       "    }\n",
       "</style>\n",
       "<table border=\"1\" class=\"dataframe\">\n",
       "  <thead>\n",
       "    <tr style=\"text-align: right;\">\n",
       "      <th></th>\n",
       "      <th>Airport</th>\n",
       "      <th>Late percentage</th>\n",
       "    </tr>\n",
       "  </thead>\n",
       "  <tbody>\n",
       "    <tr>\n",
       "      <th>26</th>\n",
       "      <td>DAL</td>\n",
       "      <td>0.524628</td>\n",
       "    </tr>\n",
       "    <tr>\n",
       "      <th>50</th>\n",
       "      <td>MDW</td>\n",
       "      <td>0.516782</td>\n",
       "    </tr>\n",
       "    <tr>\n",
       "      <th>20</th>\n",
       "      <td>BWI</td>\n",
       "      <td>0.494278</td>\n",
       "    </tr>\n",
       "    <tr>\n",
       "      <th>36</th>\n",
       "      <td>HOU</td>\n",
       "      <td>0.490652</td>\n",
       "    </tr>\n",
       "    <tr>\n",
       "      <th>28</th>\n",
       "      <td>DEN</td>\n",
       "      <td>0.459530</td>\n",
       "    </tr>\n",
       "    <tr>\n",
       "      <th>56</th>\n",
       "      <td>OAK</td>\n",
       "      <td>0.453911</td>\n",
       "    </tr>\n",
       "    <tr>\n",
       "      <th>32</th>\n",
       "      <td>EWR</td>\n",
       "      <td>0.452304</td>\n",
       "    </tr>\n",
       "    <tr>\n",
       "      <th>61</th>\n",
       "      <td>ORD</td>\n",
       "      <td>0.437246</td>\n",
       "    </tr>\n",
       "    <tr>\n",
       "      <th>43</th>\n",
       "      <td>LAS</td>\n",
       "      <td>0.430577</td>\n",
       "    </tr>\n",
       "    <tr>\n",
       "      <th>37</th>\n",
       "      <td>IAD</td>\n",
       "      <td>0.430490</td>\n",
       "    </tr>\n",
       "  </tbody>\n",
       "</table>\n",
       "</div>"
      ],
      "text/plain": [
       "   Airport  Late percentage\n",
       "26     DAL         0.524628\n",
       "50     MDW         0.516782\n",
       "20     BWI         0.494278\n",
       "36     HOU         0.490652\n",
       "28     DEN         0.459530\n",
       "56     OAK         0.453911\n",
       "32     EWR         0.452304\n",
       "61     ORD         0.437246\n",
       "43     LAS         0.430577\n",
       "37     IAD         0.430490"
      ]
     },
     "execution_count": 20,
     "metadata": {},
     "output_type": "execute_result"
    }
   ],
   "source": [
    "## Airports with atleast 10k flights in the order of their delayed flights percentage\n",
    "\n",
    "df_late = df[df['DEPARTURE_DELAY'] > 0]\n",
    "late_count = df_late.groupby('ORIGIN_AIRPORT')['AIRLINE'].agg('count')\n",
    "total_count = df.groupby('ORIGIN_AIRPORT')['AIRLINE'].agg('count')\n",
    "\n",
    "airport_list = total_count.index.unique()\n",
    "big_airport = [airport for airport in airport_list if total_count[airport] > 10000]\n",
    "\n",
    "perc_late = [late_count[airport]/total_count[airport] for airport in big_airport]\n",
    "\n",
    "perc_late_dict = {\"Airport\" : big_airport, \"Late percentage\" : perc_late}\n",
    "\n",
    "df_prec_late = pd.DataFrame(perc_late_dict).sort_values('Late percentage', ascending = False)\n",
    "\n",
    "df_prec_late[:10]\n",
    "\n",
    "\n",
    "\n"
   ]
  },
  {
   "cell_type": "code",
   "execution_count": 21,
   "metadata": {},
   "outputs": [
    {
     "data": {
      "text/plain": [
       "ORIGIN_AIRPORT\n",
       "JFK    26.995582\n",
       "LGA    26.711306\n",
       "PHL    21.691279\n",
       "EWR    20.177708\n",
       "BOS    20.005506\n",
       "Name: TAXI_OUT, dtype: float64"
      ]
     },
     "execution_count": 21,
     "metadata": {},
     "output_type": "execute_result"
    }
   ],
   "source": [
    "## taxi_out time vs. big airport\n",
    "\n",
    "df_taxi = df[df['ORIGIN_AIRPORT'].isin(big_airport)]\n",
    "df_taxi.groupby('ORIGIN_AIRPORT')['TAXI_OUT'].agg('mean').sort_values(ascending=False)[:5]\n"
   ]
  },
  {
   "cell_type": "code",
   "execution_count": 24,
   "metadata": {},
   "outputs": [
    {
     "data": {
      "text/plain": [
       "<matplotlib.collections.PathCollection at 0x8075630>"
      ]
     },
     "execution_count": 24,
     "metadata": {},
     "output_type": "execute_result"
    },
    {
     "data": {
      "image/png": "[encoded data removed]",
      "text/plain": [
       "<matplotlib.figure.Figure at 0x7dcbbe0>"
      ]
     },
     "metadata": {},
     "output_type": "display_data"
    }
   ],
   "source": [
    "## Avg. speed vs distance\n",
    "## As the distance increases, speed increases\n",
    "\n",
    "speed = 60*df['DISTANCE']/df['AIR_TIME']\n",
    "dist = df['DISTANCE']\n",
    "\n",
    "a=dist[:10000]\n",
    "b=speed[:10000]\n",
    "plt.scatter(a,b)"
   ]
  },
  {
   "cell_type": "code",
   "execution_count": 25,
   "metadata": {},
   "outputs": [
    {
     "data": {
      "text/plain": [
       "CANCELLATION_REASON\n",
       "A    25262\n",
       "B    48851\n",
       "C    15749\n",
       "D       22\n",
       "Name: CANCELLED, dtype: int64"
      ]
     },
     "execution_count": 25,
     "metadata": {},
     "output_type": "execute_result"
    }
   ],
   "source": [
    "## Cancellation reason for cancelled flights\n",
    "df_cancel = df_flight[df_flight['CANCELLED']==1]\n",
    "df_cancel.groupby(['CANCELLATION_REASON'])['CANCELLED'].agg('count')"
   ]
  },
  {
   "cell_type": "code",
   "execution_count": 232,
   "metadata": {},
   "outputs": [
    {
     "data": {
      "text/plain": [
       "MONTH\n",
       "2     15447\n",
       "1      7020\n",
       "3      6864\n",
       "12     5613\n",
       "6      3325\n",
       "5      2780\n",
       "11     2339\n",
       "4      1789\n",
       "8      1310\n",
       "10      977\n",
       "7       882\n",
       "9       505\n",
       "Name: CANCELLED, dtype: int64"
      ]
     },
     "execution_count": 232,
     "metadata": {},
     "output_type": "execute_result"
    }
   ],
   "source": [
    "## Weather affect for different months\n",
    "## Most flights gets cancelled during winter for weather reasons\n",
    "\n",
    "df_weather = df_flight[df_flight['CANCELLATION_REASON']=='B']\n",
    "df_weather.groupby('MONTH')['CANCELLED'].agg('count').sort_values(ascending=False)"
   ]
  },
  {
   "cell_type": "code",
   "execution_count": 38,
   "metadata": {},
   "outputs": [
    {
     "data": {
      "text/plain": [
       "AIRLINE\n",
       "WN    6122\n",
       "EV    3604\n",
       "OO    3205\n",
       "AA    2879\n",
       "UA    2870\n",
       "MQ    2475\n",
       "US    1007\n",
       "B6     883\n",
       "NK     654\n",
       "DL     594\n",
       "AS     334\n",
       "F9     308\n",
       "HA     170\n",
       "VX     157\n",
       "Name: CANCELLED, dtype: int64"
      ]
     },
     "execution_count": 38,
     "metadata": {},
     "output_type": "execute_result"
    }
   ],
   "source": [
    "## Which Airline Cancels flights the most\n",
    "## but need to check their percentage of cancellation\n",
    "\n",
    "df_airline_cancel = df_flight[df_flight['CANCELLATION_REASON']=='A']\n",
    "df_airline_cancel = df_airline_cancel.groupby(['AIRLINE'])['CANCELLED'].agg('count').sort_values(ascending=False)\n",
    "df_airline_cancel"
   ]
  },
  {
   "cell_type": "code",
   "execution_count": 43,
   "metadata": {},
   "outputs": [
    {
     "data": {
      "text/html": [
       "<div>\n",
       "<style scoped>\n",
       "    .dataframe tbody tr th:only-of-type {\n",
       "        vertical-align: middle;\n",
       "    }\n",
       "\n",
       "    .dataframe tbody tr th {\n",
       "        vertical-align: top;\n",
       "    }\n",
       "\n",
       "    .dataframe thead th {\n",
       "        text-align: right;\n",
       "    }\n",
       "</style>\n",
       "<table border=\"1\" class=\"dataframe\">\n",
       "  <thead>\n",
       "    <tr style=\"text-align: right;\">\n",
       "      <th></th>\n",
       "      <th>Airline</th>\n",
       "      <th>Cancel Percentage</th>\n",
       "    </tr>\n",
       "  </thead>\n",
       "  <tbody>\n",
       "    <tr>\n",
       "      <th>7</th>\n",
       "      <td>MQ</td>\n",
       "      <td>0.840031</td>\n",
       "    </tr>\n",
       "    <tr>\n",
       "      <th>4</th>\n",
       "      <td>EV</td>\n",
       "      <td>0.630095</td>\n",
       "    </tr>\n",
       "    <tr>\n",
       "      <th>8</th>\n",
       "      <td>NK</td>\n",
       "      <td>0.557170</td>\n",
       "    </tr>\n",
       "    <tr>\n",
       "      <th>10</th>\n",
       "      <td>UA</td>\n",
       "      <td>0.556500</td>\n",
       "    </tr>\n",
       "    <tr>\n",
       "      <th>9</th>\n",
       "      <td>OO</td>\n",
       "      <td>0.544741</td>\n",
       "    </tr>\n",
       "    <tr>\n",
       "      <th>11</th>\n",
       "      <td>US</td>\n",
       "      <td>0.506756</td>\n",
       "    </tr>\n",
       "    <tr>\n",
       "      <th>13</th>\n",
       "      <td>WN</td>\n",
       "      <td>0.485159</td>\n",
       "    </tr>\n",
       "    <tr>\n",
       "      <th>0</th>\n",
       "      <td>AA</td>\n",
       "      <td>0.396565</td>\n",
       "    </tr>\n",
       "    <tr>\n",
       "      <th>5</th>\n",
       "      <td>F9</td>\n",
       "      <td>0.339073</td>\n",
       "    </tr>\n",
       "    <tr>\n",
       "      <th>2</th>\n",
       "      <td>B6</td>\n",
       "      <td>0.330652</td>\n",
       "    </tr>\n",
       "    <tr>\n",
       "      <th>12</th>\n",
       "      <td>VX</td>\n",
       "      <td>0.253623</td>\n",
       "    </tr>\n",
       "    <tr>\n",
       "      <th>6</th>\n",
       "      <td>HA</td>\n",
       "      <td>0.222887</td>\n",
       "    </tr>\n",
       "    <tr>\n",
       "      <th>1</th>\n",
       "      <td>AS</td>\n",
       "      <td>0.193600</td>\n",
       "    </tr>\n",
       "    <tr>\n",
       "      <th>3</th>\n",
       "      <td>DL</td>\n",
       "      <td>0.067817</td>\n",
       "    </tr>\n",
       "  </tbody>\n",
       "</table>\n",
       "</div>"
      ],
      "text/plain": [
       "   Airline  Cancel Percentage\n",
       "7       MQ           0.840031\n",
       "4       EV           0.630095\n",
       "8       NK           0.557170\n",
       "10      UA           0.556500\n",
       "9       OO           0.544741\n",
       "11      US           0.506756\n",
       "13      WN           0.485159\n",
       "0       AA           0.396565\n",
       "5       F9           0.339073\n",
       "2       B6           0.330652\n",
       "12      VX           0.253623\n",
       "6       HA           0.222887\n",
       "1       AS           0.193600\n",
       "3       DL           0.067817"
      ]
     },
     "execution_count": 43,
     "metadata": {},
     "output_type": "execute_result"
    }
   ],
   "source": [
    "## Calculating cancel percentage\n",
    "\n",
    "df_airline_count = df_flight.groupby('AIRLINE')['FLIGHT_NUMBER'].agg('count')\n",
    "airline_list = df_airline_count.index.unique()\n",
    "\n",
    "\n",
    "airline_cancel_perc = [100*df_airline_cancel[airline]/df_airline_count[airline] for airline in airline_list]\n",
    "airline_cancel_dict = {'Airline':airline_list, 'Cancel Percentage':airline_cancel_perc}\n",
    "df_airline_cancel_perc = pd.DataFrame(airline_cancel_dict)\n",
    "df_airline_cancel_perc = df_airline_cancel_perc.sort_values(by='Cancel Percentage',ascending=False)\n",
    "df_airline_cancel_perc\n"
   ]
  },
  {
   "cell_type": "code",
   "execution_count": 44,
   "metadata": {},
   "outputs": [
    {
     "data": {
      "text/plain": [
       "(array([3.3588e+04, 4.5041e+04, 9.7240e+03, 2.1230e+03, 7.0100e+02,\n",
       "        2.7700e+02, 1.1700e+02, 7.2000e+01, 1.8000e+01, 2.0000e+00]),\n",
       " array([  3. ,  20.7,  38.4,  56.1,  73.8,  91.5, 109.2, 126.9, 144.6,\n",
       "        162.3, 180. ]),\n",
       " <a list of 10 Patch objects>)"
      ]
     },
     "execution_count": 44,
     "metadata": {},
     "output_type": "execute_result"
    },
    {
     "data": {
      "image/png": "[encoded data removed]",
      "text/plain": [
       "<matplotlib.figure.Figure at 0xafe7710>"
      ]
     },
     "metadata": {},
     "output_type": "display_data"
    }
   ],
   "source": [
    "#df.groupby('ORIGIN_AIRPORT')['TAXI_OUT'].agg(['count','mean','min','max']).sort_values(by='mean',ascending=False\n",
    "## Bigger airports have larger taxi out time\n",
    "jfk = df[df['ORIGIN_AIRPORT']=='JFK']\n",
    "plt.hist(jfk['TAXI_OUT'])\n",
    "                                                                                       "
   ]
  },
  {
   "cell_type": "code",
   "execution_count": 11,
   "metadata": {},
   "outputs": [
    {
     "data": {
      "text/html": [
       "<div>\n",
       "<style scoped>\n",
       "    .dataframe tbody tr th:only-of-type {\n",
       "        vertical-align: middle;\n",
       "    }\n",
       "\n",
       "    .dataframe tbody tr th {\n",
       "        vertical-align: top;\n",
       "    }\n",
       "\n",
       "    .dataframe thead th {\n",
       "        text-align: right;\n",
       "    }\n",
       "</style>\n",
       "<table border=\"1\" class=\"dataframe\">\n",
       "  <thead>\n",
       "    <tr style=\"text-align: right;\">\n",
       "      <th></th>\n",
       "      <th>count</th>\n",
       "      <th>mean</th>\n",
       "      <th>min</th>\n",
       "      <th>max</th>\n",
       "    </tr>\n",
       "    <tr>\n",
       "      <th>AIRLINE</th>\n",
       "      <th></th>\n",
       "      <th></th>\n",
       "      <th></th>\n",
       "      <th></th>\n",
       "    </tr>\n",
       "  </thead>\n",
       "  <tbody>\n",
       "    <tr>\n",
       "      <th>AA</th>\n",
       "      <td>15238</td>\n",
       "      <td>25.780877</td>\n",
       "      <td>3.0</td>\n",
       "      <td>152.0</td>\n",
       "    </tr>\n",
       "    <tr>\n",
       "      <th>AS</th>\n",
       "      <td>75</td>\n",
       "      <td>28.480000</td>\n",
       "      <td>11.0</td>\n",
       "      <td>73.0</td>\n",
       "    </tr>\n",
       "    <tr>\n",
       "      <th>B6</th>\n",
       "      <td>39587</td>\n",
       "      <td>26.048097</td>\n",
       "      <td>5.0</td>\n",
       "      <td>159.0</td>\n",
       "    </tr>\n",
       "    <tr>\n",
       "      <th>DL</th>\n",
       "      <td>25037</td>\n",
       "      <td>29.804649</td>\n",
       "      <td>3.0</td>\n",
       "      <td>180.0</td>\n",
       "    </tr>\n",
       "    <tr>\n",
       "      <th>HA</th>\n",
       "      <td>293</td>\n",
       "      <td>23.703072</td>\n",
       "      <td>9.0</td>\n",
       "      <td>78.0</td>\n",
       "    </tr>\n",
       "    <tr>\n",
       "      <th>MQ</th>\n",
       "      <td>3236</td>\n",
       "      <td>26.672435</td>\n",
       "      <td>5.0</td>\n",
       "      <td>136.0</td>\n",
       "    </tr>\n",
       "    <tr>\n",
       "      <th>UA</th>\n",
       "      <td>3238</td>\n",
       "      <td>26.578135</td>\n",
       "      <td>7.0</td>\n",
       "      <td>139.0</td>\n",
       "    </tr>\n",
       "    <tr>\n",
       "      <th>US</th>\n",
       "      <td>1359</td>\n",
       "      <td>24.533481</td>\n",
       "      <td>10.0</td>\n",
       "      <td>114.0</td>\n",
       "    </tr>\n",
       "    <tr>\n",
       "      <th>VX</th>\n",
       "      <td>3600</td>\n",
       "      <td>24.852222</td>\n",
       "      <td>8.0</td>\n",
       "      <td>137.0</td>\n",
       "    </tr>\n",
       "  </tbody>\n",
       "</table>\n",
       "</div>"
      ],
      "text/plain": [
       "         count       mean   min    max\n",
       "AIRLINE                               \n",
       "AA       15238  25.780877   3.0  152.0\n",
       "AS          75  28.480000  11.0   73.0\n",
       "B6       39587  26.048097   5.0  159.0\n",
       "DL       25037  29.804649   3.0  180.0\n",
       "HA         293  23.703072   9.0   78.0\n",
       "MQ        3236  26.672435   5.0  136.0\n",
       "UA        3238  26.578135   7.0  139.0\n",
       "US        1359  24.533481  10.0  114.0\n",
       "VX        3600  24.852222   8.0  137.0"
      ]
     },
     "execution_count": 11,
     "metadata": {},
     "output_type": "execute_result"
    }
   ],
   "source": [
    "## taxi_out delay for different airlines at JFK\n",
    "jfk.groupby('AIRLINE')['TAXI_OUT'].agg(['count','mean','min','max'])"
   ]
  },
  {
   "cell_type": "code",
   "execution_count": 41,
   "metadata": {},
   "outputs": [
    {
     "name": "stderr",
     "output_type": "stream",
     "text": [
      "C:\\ProgramData\\Anaconda3\\lib\\site-packages\\ipykernel_launcher.py:5: SettingWithCopyWarning: \n",
      "A value is trying to be set on a copy of a slice from a DataFrame.\n",
      "Try using .loc[row_indexer,col_indexer] = value instead\n",
      "\n",
      "See the caveats in the documentation: http://pandas.pydata.org/pandas-docs/stable/indexing.html#indexing-view-versus-copy\n",
      "  \"\"\"\n"
     ]
    },
    {
     "data": {
      "text/html": [
       "<div>\n",
       "<style scoped>\n",
       "    .dataframe tbody tr th:only-of-type {\n",
       "        vertical-align: middle;\n",
       "    }\n",
       "\n",
       "    .dataframe tbody tr th {\n",
       "        vertical-align: top;\n",
       "    }\n",
       "\n",
       "    .dataframe thead th {\n",
       "        text-align: right;\n",
       "    }\n",
       "</style>\n",
       "<table border=\"1\" class=\"dataframe\">\n",
       "  <thead>\n",
       "    <tr style=\"text-align: right;\">\n",
       "      <th></th>\n",
       "      <th>count</th>\n",
       "      <th>mean</th>\n",
       "    </tr>\n",
       "    <tr>\n",
       "      <th>TAXI_OUT_RANGE</th>\n",
       "      <th></th>\n",
       "      <th></th>\n",
       "    </tr>\n",
       "  </thead>\n",
       "  <tbody>\n",
       "    <tr>\n",
       "      <th>(0.0, 19.0]</th>\n",
       "      <td>380</td>\n",
       "      <td>332.805263</td>\n",
       "    </tr>\n",
       "    <tr>\n",
       "      <th>(19.0, 38.0]</th>\n",
       "      <td>910</td>\n",
       "      <td>324.531868</td>\n",
       "    </tr>\n",
       "    <tr>\n",
       "      <th>(38.0, 57.0]</th>\n",
       "      <td>279</td>\n",
       "      <td>322.136201</td>\n",
       "    </tr>\n",
       "    <tr>\n",
       "      <th>(57.0, 76.0]</th>\n",
       "      <td>68</td>\n",
       "      <td>322.279412</td>\n",
       "    </tr>\n",
       "    <tr>\n",
       "      <th>(76.0, 95.0]</th>\n",
       "      <td>25</td>\n",
       "      <td>325.560000</td>\n",
       "    </tr>\n",
       "    <tr>\n",
       "      <th>(95.0, 114.0]</th>\n",
       "      <td>5</td>\n",
       "      <td>334.000000</td>\n",
       "    </tr>\n",
       "    <tr>\n",
       "      <th>(114.0, 133.0]</th>\n",
       "      <td>1</td>\n",
       "      <td>325.000000</td>\n",
       "    </tr>\n",
       "  </tbody>\n",
       "</table>\n",
       "</div>"
      ],
      "text/plain": [
       "                count        mean\n",
       "TAXI_OUT_RANGE                   \n",
       "(0.0, 19.0]       380  332.805263\n",
       "(19.0, 38.0]      910  324.531868\n",
       "(38.0, 57.0]      279  322.136201\n",
       "(57.0, 76.0]       68  322.279412\n",
       "(76.0, 95.0]       25  325.560000\n",
       "(95.0, 114.0]       5  334.000000\n",
       "(114.0, 133.0]      1  325.000000"
      ]
     },
     "execution_count": 41,
     "metadata": {},
     "output_type": "execute_result"
    }
   ],
   "source": [
    "## Speed vs taxi out delay\n",
    "jfk_san = df[(df['ORIGIN_AIRPORT']=='JFK') & (df['DESTINATION_AIRPORT']=='SAN')]\n",
    "taxi_out_max = jfk_san['TAXI_OUT'].max()\n",
    "delay_range = np.arange(0,taxi_out_max,taxi_out_max/8)\n",
    "jfk_san['TAXI_OUT_RANGE'] = pd.cut(jfk_san['TAXI_OUT'],delay_range)\n",
    "\n",
    "jfk_san.groupby('TAXI_OUT_RANGE')['AIR_TIME'].agg(['count','mean'])\n",
    "\n",
    "## Output is like a parabola"
   ]
  },
  {
   "cell_type": "code",
   "execution_count": 45,
   "metadata": {},
   "outputs": [],
   "source": [
    "from sklearn import metrics, linear_model\n",
    "from sklearn.preprocessing import PolynomialFeatures, StandardScaler\n",
    "from sklearn.model_selection import train_test_split, cross_val_score, cross_val_predict\n",
    "from sklearn.metrics import mean_squared_error\n",
    "from sklearn.preprocessing import PolynomialFeatures, LabelEncoder, OneHotEncoder"
   ]
  },
  {
   "cell_type": "code",
   "execution_count": 46,
   "metadata": {},
   "outputs": [],
   "source": [
    "## Now study the training and prediction\n",
    "## Modeling the departure delay\n",
    "\n",
    "def get_flight_delays(df,airline,airport_id):\n",
    "    df_res = df[(df['AIRLINE']==airline) & (df['ORIGIN_AIRPORT']==airport_id)]\n",
    "    test = df_res[df_res['DEPARTURE_DELAY']<50]\n",
    "    test = test.groupby('SCHEDULED_DEPARTURE')['DEPARTURE_DELAY'].agg(['mean','count'])\n",
    "    test.reset_index(inplace=True)    \n",
    "    return test[['SCHEDULED_DEPARTURE','mean']]\n",
    "\n"
   ]
  },
  {
   "cell_type": "code",
   "execution_count": 50,
   "metadata": {},
   "outputs": [
    {
     "data": {
      "text/plain": [
       "31.541852900747426"
      ]
     },
     "execution_count": 50,
     "metadata": {},
     "output_type": "execute_result"
    },
    {
     "data": {
      "image/png": "[encoded data removed]",
      "text/plain": [
       "<matplotlib.figure.Figure at 0x674ec198>"
      ]
     },
     "metadata": {},
     "output_type": "display_data"
    }
   ],
   "source": [
    "## Training on data from first 3 weeks of January\n",
    "## And predicting on last week of January\n",
    "\n",
    "df_train = df[(df['DATE']>'2015-1-01') & (df['DATE']<'2015-1-25')]\n",
    "df_train = df_train[df_train['DEPARTURE_DELAY']<50]\n",
    "test = get_flight_delays(df_train,'AA','DFW')\n",
    "X = test['SCHEDULED_DEPARTURE']\n",
    "X = X.values.reshape(len(X),1)\n",
    "y = test['mean']\n",
    "y = y.values.reshape(len(y),1)\n",
    "\n",
    "train_X,test_X,train_Y,test_Y = train_test_split(X,y,test_size=0.25,random_state=42)\n",
    "\n",
    "linreg = linear_model.LinearRegression()\n",
    "\n",
    "linreg.fit(train_X,train_Y)\n",
    "test_pred = linreg.predict(test_X)\n",
    "\n",
    "\n",
    "plt.scatter(test_X,test_Y)\n",
    "plt.scatter(test_X,test_pred,color='g')\n",
    "\n",
    "\n",
    "mean_squared_error(test_Y,test_pred)\n"
   ]
  },
  {
   "cell_type": "code",
   "execution_count": 55,
   "metadata": {},
   "outputs": [
    {
     "data": {
      "text/plain": [
       "LinearRegression(copy_X=True, fit_intercept=True, n_jobs=1, normalize=False)"
      ]
     },
     "execution_count": 55,
     "metadata": {},
     "output_type": "execute_result"
    }
   ],
   "source": [
    "## Now adding Polynomial Features\n",
    "\n",
    "poly = PolynomialFeatures(2)\n",
    "X_poly = poly.fit_transform(X)\n",
    "train_X,test_X,train_Y,test_Y = train_test_split(X_poly,y,test_size=0.25,random_state=42)\n",
    "linreg.fit(train_X,train_Y)\n",
    "test_pred = linreg.predict(test_X)\n",
    "\n",
    "mean_squared_error(test_Y,test_pred)"
   ]
  },
  {
   "cell_type": "code",
   "execution_count": 54,
   "metadata": {},
   "outputs": [
    {
     "data": {
      "image/png": "[encoded data removed]",
      "text/plain": [
       "<matplotlib.figure.Figure at 0x67ce65c0>"
      ]
     },
     "metadata": {},
     "output_type": "display_data"
    }
   ],
   "source": [
    "## Plotting MSE vs Polynomial Features\n",
    "\n",
    "def get_mse(pred,out):\n",
    "    return mean_squared_error(pred,out)\n",
    "\n",
    "num_feature=[1,2,3,4,5,6,7,8,9]\n",
    "mse_list = []\n",
    "\n",
    "fig,axes = plt.subplots(3,3)\n",
    "plt.subplots_adjust(wspace=0.4,hspace=0.4)\n",
    "count = 0\n",
    "\n",
    "for num in num_feature:\n",
    "    poly = PolynomialFeatures(num)\n",
    "    x_poly = poly.fit_transform(X)\n",
    "    train_x,test_x,train_y,test_y = train_test_split(x_poly,y,test_size=0.25,random_state=42)\n",
    "    linreg = linear_model.LinearRegression()\n",
    "    linreg.fit(train_x,train_y)\n",
    "    pred = linreg.predict(test_x)\n",
    "    mse = get_mse(pred,test_y)\n",
    "    mse_list.append(mse)\n",
    "    \n",
    "    i = count//3\n",
    "    j = count%3\n",
    "    base = test_x[:,1].reshape(len(test_x[:,1]),1)\n",
    "    axes[i,j].scatter(base,test_y)\n",
    "    axes[i,j].scatter(base,pred,color='g')\n",
    "    axes[i,j].set_title('poly_order ={}, MSE = {:.1f}'.format(num,mse))\n",
    "    count = count +1\n",
    "\n",
    "fig.set_size_inches(10,10)\n",
    "\n",
    "#plt.plot(num_feature,mse_list)\n",
    " "
   ]
  },
  {
   "cell_type": "code",
   "execution_count": 57,
   "metadata": {},
   "outputs": [
    {
     "data": {
      "text/plain": [
       "400.0774044851175"
      ]
     },
     "execution_count": 57,
     "metadata": {},
     "output_type": "execute_result"
    }
   ],
   "source": [
    "## Now Predicting on the out of sample data\n",
    "\n",
    "df_test = df[(df['DATE']>'2015-1-26') & (df['DATE']<'2015-1-31')]\n",
    "df_test = df_test[(df_test['ORIGIN_AIRPORT'] == 'DFW') & (df_test['AIRLINE'] == 'AA')]\n",
    "\n",
    "test_X = df_test['SCHEDULED_DEPARTURE']\n",
    "test_X = test_X.values.reshape(len(test_X),1)\n",
    "test_y = df_test['DEPARTURE_DELAY']\n",
    "test_y = test_y.values.reshape(len(test_y),1)\n",
    "\n",
    "\n",
    "poly = PolynomialFeatures(2)\n",
    "x_poly = poly.fit_transform(X)\n",
    "test_X_poly = poly.fit_transform(test_X)\n",
    "linreg = linear_model.LinearRegression()\n",
    "linreg.fit(x_poly,y)\n",
    "test_pred = linreg.predict(test_X_poly)\n",
    "\n",
    "mean_squared_error(test_pred,test_y)"
   ]
  },
  {
   "cell_type": "code",
   "execution_count": 58,
   "metadata": {},
   "outputs": [
    {
     "data": {
      "text/plain": [
       "-27.927064951697822"
      ]
     },
     "execution_count": 58,
     "metadata": {},
     "output_type": "execute_result"
    }
   ],
   "source": [
    "## Using Cross Validation instead of train_test_split\n",
    "\n",
    "linreg = linear_model.LinearRegression()\n",
    "scores = cross_val_score(linreg,X,y,cv=5,scoring='neg_mean_squared_error')\n",
    "np.mean(scores)"
   ]
  },
  {
   "cell_type": "code",
   "execution_count": 61,
   "metadata": {},
   "outputs": [
    {
     "data": {
      "text/plain": [
       "[<matplotlib.lines.Line2D at 0x676ff080>]"
      ]
     },
     "execution_count": 61,
     "metadata": {},
     "output_type": "execute_result"
    },
    {
     "data": {
      "image/png": "[encoded data removed]",
      "text/plain": [
       "<matplotlib.figure.Figure at 0x674ffa20>"
      ]
     },
     "metadata": {},
     "output_type": "display_data"
    }
   ],
   "source": [
    "## Deciding polynomial order using cross validation score\n",
    "\n",
    "num_features = [1,2,3,4,5,6]\n",
    "mse_list = []\n",
    "\n",
    "for num in num_features:\n",
    "    poly = PolynomialFeatures(num)\n",
    "    X_poly = poly.fit_transform(X)\n",
    "    linreg = linear_model.LinearRegression()\n",
    "    mse = np.mean(cross_val_score(linreg,X_poly,y,cv=5,scoring='neg_mean_squared_error'))\n",
    "    mse_list.append(-1*mse)\n",
    "    \n",
    "plt.plot(num_features,mse_list)\n"
   ]
  },
  {
   "cell_type": "code",
   "execution_count": 63,
   "metadata": {},
   "outputs": [],
   "source": [
    "## Feature Engineering; Adding Week day as an additional feature\n",
    "## And studying the effect of Week day on departure delay\n",
    "\n",
    "df_train1 = df[(df['AIRLINE']=='AA') & (df['ORIGIN_AIRPORT'] == 'DFW')]\n",
    "df_train1 = df_train1[(df_train1['DATE'] > '2015-01-01') & (df_train1['DATE'] < '2015-05-25')]\n",
    "df_train1 = df_train1[df_train1['DEPARTURE_DELAY']<50]\n",
    "test1 = df_train1.groupby(['SCHEDULED_DEPARTURE','DAY_OF_WEEK'])['DEPARTURE_DELAY'].agg(['count','mean'])\n",
    "test1.reset_index(inplace=True)"
   ]
  },
  {
   "cell_type": "code",
   "execution_count": 64,
   "metadata": {},
   "outputs": [],
   "source": [
    "X1 = test1[['SCHEDULED_DEPARTURE','DAY_OF_WEEK']]\n",
    "y1 = test1['mean']\n",
    "y1 = y1.values.reshape(len(y1),1)\n"
   ]
  },
  {
   "cell_type": "code",
   "execution_count": 73,
   "metadata": {},
   "outputs": [
    {
     "data": {
      "text/plain": [
       "58.89561673587697"
      ]
     },
     "execution_count": 73,
     "metadata": {},
     "output_type": "execute_result"
    }
   ],
   "source": [
    "linreg = linear_model.LinearRegression()\n",
    "\n",
    "train_X1,test_X1,train_Y1,test_Y1 = train_test_split(X1,y1,test_size=0.25,random_state=42)\n",
    "linreg.fit(train_X1,train_Y1)\n",
    "test_pred1 = linreg.predict(test_X1)\n",
    "mean_squared_error(test_Y1,test_pred1)"
   ]
  },
  {
   "cell_type": "code",
   "execution_count": 74,
   "metadata": {},
   "outputs": [
    {
     "data": {
      "text/plain": [
       "-57.498617837484005"
      ]
     },
     "execution_count": 74,
     "metadata": {},
     "output_type": "execute_result"
    }
   ],
   "source": [
    "np.mean(cross_val_score(linreg,X1,y1,cv=5,scoring='neg_mean_squared_error'))"
   ]
  },
  {
   "cell_type": "code",
   "execution_count": 75,
   "metadata": {},
   "outputs": [
    {
     "data": {
      "text/plain": [
       "<matplotlib.collections.PathCollection at 0x6773d710>"
      ]
     },
     "execution_count": 75,
     "metadata": {},
     "output_type": "execute_result"
    },
    {
     "data": {
      "image/png": "[encoded data removed]",
      "text/plain": [
       "<matplotlib.figure.Figure at 0x6776abe0>"
      ]
     },
     "metadata": {},
     "output_type": "display_data"
    }
   ],
   "source": [
    "plt.scatter(test_X1['DAY_OF_WEEK'],test_Y1)\n",
    "plt.scatter(test_X1['DAY_OF_WEEK'],test_pred,color='g')"
   ]
  },
  {
   "cell_type": "code",
   "execution_count": 78,
   "metadata": {},
   "outputs": [
    {
     "data": {
      "text/plain": [
       "58.895616735876985"
      ]
     },
     "execution_count": 78,
     "metadata": {},
     "output_type": "execute_result"
    }
   ],
   "source": [
    "poly = PolynomialFeatures(1)\n",
    "X1_poly = poly.fit_transform(X1)\n",
    "\n",
    "train_X1,test_X1,train_Y1,test_Y1 = train_test_split(X1_poly,y1,test_size=0.25,random_state=42)\n",
    "linreg.fit(train_X1,train_Y1)\n",
    "test_pred1 = linreg.predict(test_X1)\n",
    "mean_squared_error(test_Y1,test_pred1)"
   ]
  },
  {
   "cell_type": "code",
   "execution_count": 82,
   "metadata": {},
   "outputs": [
    {
     "data": {
      "text/plain": [
       "393.48309922979473"
      ]
     },
     "execution_count": 82,
     "metadata": {},
     "output_type": "execute_result"
    }
   ],
   "source": [
    "## Now Predicting on the out of sample data\n",
    "\n",
    "df_test1 = df[(df['DATE']>'2015-1-26') & (df['DATE']<'2015-1-31')]\n",
    "\n",
    "df_test1 = df_test1[(df_test1['AIRLINE'] == 'AA') & (df_test1['ORIGIN_AIRPORT'] == 'DFW')]\n",
    "\n",
    "test_X1 = df_test1[['SCHEDULED_DEPARTURE','DAY_OF_WEEK']]\n",
    "test_y1 = df_test1['DEPARTURE_DELAY']\n",
    "test_y1 = test_y1.values.reshape(len(test_y1),1)\n",
    "\n",
    "\n",
    "poly = PolynomialFeatures(1)\n",
    "test_X1_poly = poly.fit_transform(test_X1)\n",
    "linreg = linear_model.LinearRegression()\n",
    "linreg.fit(X1_poly,y1)\n",
    "test_pred1 = linreg.predict(test_X1_poly)\n",
    "mean_squared_error(test_pred1,test_y1)"
   ]
  },
  {
   "cell_type": "code",
   "execution_count": 83,
   "metadata": {},
   "outputs": [
    {
     "data": {
      "text/plain": [
       "(1821, 3)"
      ]
     },
     "execution_count": 83,
     "metadata": {},
     "output_type": "execute_result"
    }
   ],
   "source": [
    "## Inlcuding Airport as well in the Feature list\n",
    "## Combining all airports for a given carrier\n",
    "\n",
    "df_train2 = df[(df['DATE']>'2015-1-01') & (df['DATE']<'2015-1-25')]\n",
    "list_airport = df[df['AIRLINE']=='AA']['ORIGIN_AIRPORT'].unique()\n",
    "i = 0\n",
    "\n",
    "for airport_id in list_airport:\n",
    "    temp = get_flight_delays(df_train2,'AA',airport_id)\n",
    "    temp['AIRPORT'] = airport_id    \n",
    "    if i==0:\n",
    "        df_comb = temp.copy()\n",
    "    else:\n",
    "        df_comb = pd.concat([df_comb,temp],ignore_index=True)\n",
    "    i += 1\n",
    "    \n",
    "df_comb.shape\n",
    "        \n"
   ]
  },
  {
   "cell_type": "code",
   "execution_count": 84,
   "metadata": {},
   "outputs": [],
   "source": [
    "## Airport name is categorical feature, converting it into one-hot\n",
    "\n",
    "label_encoder = LabelEncoder()\n",
    "int_encoded = label_encoder.fit_transform(df_comb['AIRPORT'])\n",
    "int_encoded = int_encoded.reshape(len(int_encoded),1)\n",
    "onehot_encoder = OneHotEncoder(sparse=False)\n",
    "onehot_encoded = onehot_encoder.fit_transform(int_encoded)\n",
    "\n",
    "b = np.array(df_comb['SCHEDULED_DEPARTURE'])\n",
    "b = b.reshape(len(b),1)\n",
    "\n",
    "X3 = np.hstack((onehot_encoded,b))\n",
    "y3 = df_comb['mean']\n",
    "y3 = y3.values.reshape(len(y3),1)\n"
   ]
  },
  {
   "cell_type": "code",
   "execution_count": 85,
   "metadata": {},
   "outputs": [
    {
     "data": {
      "text/plain": [
       "50.87979885165961"
      ]
     },
     "execution_count": 85,
     "metadata": {},
     "output_type": "execute_result"
    }
   ],
   "source": [
    "linmodel = linear_model.LinearRegression()\n",
    "linmodel.fit(X3,y3)\n",
    "ypred = linmodel.predict(X3)\n",
    "mean_squared_error(y3,ypred)"
   ]
  },
  {
   "cell_type": "code",
   "execution_count": 86,
   "metadata": {},
   "outputs": [
    {
     "data": {
      "text/plain": [
       "<matplotlib.collections.PathCollection at 0x677b9b70>"
      ]
     },
     "execution_count": 86,
     "metadata": {},
     "output_type": "execute_result"
    },
    {
     "data": {
      "image/png": "[encoded data removed]",
      "text/plain": [
       "<matplotlib.figure.Figure at 0x676fd668>"
      ]
     },
     "metadata": {},
     "output_type": "display_data"
    }
   ],
   "source": [
    "plt.scatter(y3,ypred)"
   ]
  },
  {
   "cell_type": "code",
   "execution_count": 87,
   "metadata": {},
   "outputs": [
    {
     "data": {
      "text/plain": [
       "141.31164758128043"
      ]
     },
     "execution_count": 87,
     "metadata": {},
     "output_type": "execute_result"
    }
   ],
   "source": [
    "## Now testing it on out of sample\n",
    "\n",
    "df_test3 = df[(df['DATE']>'2015-1-26') & (df['DATE']<'2015-1-31')]\n",
    "df_test3 = df_test3[df_test3['AIRLINE'] == 'AA']\n",
    "df_test3 = df_test3[['SCHEDULED_DEPARTURE','DEPARTURE_DELAY','ORIGIN_AIRPORT']]\n",
    "df_test3 = df_test3[df_test3['DEPARTURE_DELAY'] <60]\n",
    "\n",
    "test_encoded = label_encoder.transform(df_test3['ORIGIN_AIRPORT'])\n",
    "test_encoded = test_encoded.reshape(len(test_encoded),1)\n",
    "test_onehot_encoded = onehot_encoder.transform(test_encoded)\n",
    "\n",
    "test_b = df_test3['SCHEDULED_DEPARTURE']\n",
    "test_b = test_b.values.reshape(len(test_b),1)\n",
    "test_X = np.hstack((test_onehot_encoded,test_b))\n",
    "\n",
    "test_y = df_test3['DEPARTURE_DELAY']\n",
    "test_pred = linmodel.predict(test_X)\n",
    "mean_squared_error(test_y,test_pred)"
   ]
  },
  {
   "cell_type": "code",
   "execution_count": 88,
   "metadata": {},
   "outputs": [
    {
     "data": {
      "text/plain": [
       "<matplotlib.collections.PathCollection at 0x678949e8>"
      ]
     },
     "execution_count": 88,
     "metadata": {},
     "output_type": "execute_result"
    },
    {
     "data": {
      "image/png": "[encoded data removed]",
      "text/plain": [
       "<matplotlib.figure.Figure at 0x6789aba8>"
      ]
     },
     "metadata": {},
     "output_type": "display_data"
    }
   ],
   "source": [
    "plt.scatter(test_y,test_pred)"
   ]
  },
  {
   "cell_type": "code",
   "execution_count": 90,
   "metadata": {},
   "outputs": [
    {
     "data": {
      "text/plain": [
       "139.66331838675512"
      ]
     },
     "execution_count": 90,
     "metadata": {},
     "output_type": "execute_result"
    }
   ],
   "source": [
    "## Now using Regularization in Linear Regression\n",
    "\n",
    "from sklearn.linear_model import Ridge\n",
    "\n",
    "ridgemodel = Ridge(alpha=0.1,normalize = True)\n",
    "poly = PolynomialFeatures(degree=2)\n",
    "X_poly3 = poly.fit_transform(X3)\n",
    "test_X_poly = poly.fit_transform(test_X)\n",
    "ridgemodel.fit(X_poly3,y3)\n",
    "test_pred = ridgemodel.predict(test_X_poly)\n",
    "mean_squared_error(test_y,test_pred)"
   ]
  },
  {
   "cell_type": "code",
   "execution_count": 91,
   "metadata": {},
   "outputs": [
    {
     "data": {
      "text/plain": [
       "<matplotlib.collections.PathCollection at 0x6751c8d0>"
      ]
     },
     "execution_count": 91,
     "metadata": {},
     "output_type": "execute_result"
    },
    {
     "data": {
      "image/png": "[encoded data removed]",
      "text/plain": [
       "<matplotlib.figure.Figure at 0x6790a828>"
      ]
     },
     "metadata": {},
     "output_type": "display_data"
    }
   ],
   "source": [
    "plt.scatter(test_y,test_pred)"
   ]
  },
  {
   "cell_type": "code",
   "execution_count": 92,
   "metadata": {},
   "outputs": [
    {
     "name": "stdout",
     "output_type": "stream",
     "text": [
      "0.38091573682185453\n"
     ]
    },
    {
     "data": {
      "text/plain": [
       "<matplotlib.collections.PathCollection at 0x67c1b198>"
      ]
     },
     "execution_count": 92,
     "metadata": {},
     "output_type": "execute_result"
    },
    {
     "data": {
      "image/png": "[encoded data removed]",
      "text/plain": [
       "<matplotlib.figure.Figure at 0x67894940>"
      ]
     },
     "metadata": {},
     "output_type": "display_data"
    }
   ],
   "source": [
    "## Find why mean square error is large.\n",
    "perc = 1\n",
    "big_orig = []\n",
    "big_pred = []\n",
    "count = 0\n",
    "\n",
    "for i in range(0,test_pred.shape[0]):\n",
    "    mse = np.absolute((test_y.iloc[i]-test_pred[i]))\n",
    "    if mse >10: #perc*test_y.iloc[i]:\n",
    "        big_orig.append(test_y.iloc[i])\n",
    "        big_pred.append(test_pred[i])\n",
    "        count += 1\n",
    "\n",
    "print(count/test_pred.shape[0])\n",
    "plt.scatter(big_orig,big_pred)"
   ]
  },
  {
   "cell_type": "code",
   "execution_count": 95,
   "metadata": {},
   "outputs": [
    {
     "data": {
      "text/plain": [
       "133.54109938604384"
      ]
     },
     "execution_count": 95,
     "metadata": {},
     "output_type": "execute_result"
    }
   ],
   "source": [
    "## Now using Lasso Regularization in Linear Regression\n",
    "\n",
    "from sklearn.linear_model import Lasso\n",
    "\n",
    "lassomodel = Lasso(alpha=0.1,normalize = True)\n",
    "poly = PolynomialFeatures(degree=2)\n",
    "X_poly3 = poly.fit_transform(X3)\n",
    "test_X_poly = poly.fit_transform(test_X)\n",
    "lassomodel.fit(X_poly3,y3)\n",
    "test_pred = lassomodel.predict(test_X_poly)\n",
    "mean_squared_error(test_y,test_pred)"
   ]
  },
  {
   "cell_type": "code",
   "execution_count": 265,
   "metadata": {},
   "outputs": [
    {
     "data": {
      "text/plain": [
       "64.33128351233266"
      ]
     },
     "execution_count": 265,
     "metadata": {},
     "output_type": "execute_result"
    }
   ],
   "source": [
    "train_X1,test_X1,train_Y1,test_Y1 = train_test_split(X_poly,ynew,test_size=0.25,random_state=42)\n",
    "ridgemodel.fit(train_X1,train_Y1)\n",
    "test_pred = ridgemodel.predict(test_X1)\n",
    "mean_squared_error(test_Y1,test_pred)"
   ]
  },
  {
   "cell_type": "code",
   "execution_count": 212,
   "metadata": {},
   "outputs": [
    {
     "data": {
      "text/plain": [
       "<matplotlib.collections.PathCollection at 0x1c173828>"
      ]
     },
     "execution_count": 212,
     "metadata": {},
     "output_type": "execute_result"
    },
    {
     "data": {
      "image/png": "[encoded data removed]",
      "text/plain": [
       "<matplotlib.figure.Figure at 0x1c10d550>"
      ]
     },
     "metadata": {},
     "output_type": "display_data"
    }
   ],
   "source": [
    "plt.scatter(test_Y1,test_pred)"
   ]
  },
  {
   "cell_type": "code",
   "execution_count": 96,
   "metadata": {},
   "outputs": [
    {
     "data": {
      "text/plain": [
       "[<matplotlib.lines.Line2D at 0x677b7860>]"
      ]
     },
     "execution_count": 96,
     "metadata": {},
     "output_type": "execute_result"
    },
    {
     "data": {
      "image/png": "[encoded data removed]",
      "text/plain": [
       "<matplotlib.figure.Figure at 0x67541b00>"
      ]
     },
     "metadata": {},
     "output_type": "display_data"
    }
   ],
   "source": [
    "# Grid search using cross validation to find optimum alpha for Ridge\n",
    "\n",
    "alpha_list = [0.07, 0.08, 0.09, 0.1, 0.2, 0.3]\n",
    "final_score = []\n",
    "for alpha in alpha_list:\n",
    "    ridgemodel = Ridge(alpha=alpha,normalize = True)\n",
    "    poly = PolynomialFeatures(degree=2)\n",
    "    X_poly3 = poly.fit_transform(X3)\n",
    "    scores = cross_val_score(ridgemodel,X_poly3,y3,cv=5,scoring='neg_mean_squared_error')\n",
    "    final_score.append(np.mean(scores))\n",
    "\n",
    "plt.plot(alpha_list,final_score)\n",
    "\n"
   ]
  },
  {
   "cell_type": "code",
   "execution_count": 98,
   "metadata": {},
   "outputs": [
    {
     "data": {
      "text/plain": [
       "134.49227407180567"
      ]
     },
     "execution_count": 98,
     "metadata": {},
     "output_type": "execute_result"
    }
   ],
   "source": [
    "## Trying random forest\n",
    "from sklearn.ensemble import RandomForestRegressor\n",
    "\n",
    "regr = RandomForestRegressor(max_depth=4, random_state=0, n_estimators=100)\n",
    "regr.fit(X3,y3.ravel())\n",
    "\n",
    "test_pred = regr.predict(test_X)\n",
    "mean_squared_error(test_y,test_pred)\n"
   ]
  },
  {
   "cell_type": "code",
   "execution_count": 246,
   "metadata": {},
   "outputs": [
    {
     "data": {
      "text/plain": [
       "<matplotlib.collections.PathCollection at 0xa451a20>"
      ]
     },
     "execution_count": 246,
     "metadata": {},
     "output_type": "execute_result"
    },
    {
     "data": {
      "image/png": "[encoded data removed]",
      "text/plain": [
       "<matplotlib.figure.Figure at 0xa13f080>"
      ]
     },
     "metadata": {},
     "output_type": "display_data"
    }
   ],
   "source": [
    "plt.scatter(test_y,test_pred)"
   ]
  },
  {
   "cell_type": "code",
   "execution_count": 99,
   "metadata": {},
   "outputs": [
    {
     "name": "stderr",
     "output_type": "stream",
     "text": [
      "C:\\ProgramData\\Anaconda3\\lib\\site-packages\\sklearn\\utils\\validation.py:578: DataConversionWarning: A column-vector y was passed when a 1d array was expected. Please change the shape of y to (n_samples, ), for example using ravel().\n",
      "  y = column_or_1d(y, warn=True)\n"
     ]
    },
    {
     "data": {
      "text/plain": [
       "123.82268131141984"
      ]
     },
     "execution_count": 99,
     "metadata": {},
     "output_type": "execute_result"
    }
   ],
   "source": [
    "### Trying XGBOOST\n",
    "from sklearn import ensemble\n",
    "\n",
    "params = {'n_estimators': 500, 'max_depth': 4, 'min_samples_split': 2,\n",
    "          'learning_rate': 1, 'loss': 'ls'}\n",
    "clf = ensemble.GradientBoostingRegressor(**params)\n",
    "\n",
    "clf.fit(X3, y3)\n",
    "test_pred = clf.predict(test_X)\n",
    "mean_squared_error(test_y, test_pred)"
   ]
  },
  {
   "cell_type": "code",
   "execution_count": 322,
   "metadata": {},
   "outputs": [
    {
     "data": {
      "text/plain": [
       "<matplotlib.collections.PathCollection at 0x1c8d2ba8>"
      ]
     },
     "execution_count": 322,
     "metadata": {},
     "output_type": "execute_result"
    },
    {
     "data": {
      "image/png": "[encoded data removed]",
      "text/plain": [
       "<matplotlib.figure.Figure at 0xb3dc550>"
      ]
     },
     "metadata": {},
     "output_type": "display_data"
    }
   ],
   "source": [
    "plt.scatter(test_y,test_pred)"
   ]
  },
  {
   "cell_type": "code",
   "execution_count": 101,
   "metadata": {},
   "outputs": [],
   "source": [
    "## Adding destination airport in feature list\n",
    "## Instead of destination airport, added scheduled arrival in the feature list\n",
    "\n",
    "df_train4 = df[(df['DATE']>'2015-1-01') & (df['DATE']<'2015-1-25')]\n",
    "df_train4 = df_train4[df_train4['AIRLINE'] == 'AA']\n",
    "df_train4 = df_train4[df_train4['DEPARTURE_DELAY'] < 60 ]\n",
    "df_train4 = df_train4[['DAY_OF_WEEK','SCHEDULED_DEPARTURE','SCHEDULED_ARRIVAL','ORIGIN_AIRPORT', 'DEPARTURE_DELAY']]\n",
    "\n",
    "label_encoder4 = LabelEncoder()\n",
    "label_encoded4 = label_encoder4.fit_transform(df_train4['ORIGIN_AIRPORT'])\n",
    "label_encoded4 = label_encoded4.reshape(len(label_encoded4),1)\n",
    "\n",
    "onehot_encoder4 = OneHotEncoder(sparse=False)\n",
    "onehot_encoded4 = onehot_encoder4.fit_transform(label_encoded4)\n",
    "\n",
    "b4 = np.array(df_train4[['DAY_OF_WEEK','SCHEDULED_DEPARTURE','SCHEDULED_ARRIVAL']])\n",
    "\n",
    "X4 = np.hstack((onehot_encoded4,b4))\n",
    "y4 = df_train4['DEPARTURE_DELAY']\n",
    "\n"
   ]
  },
  {
   "cell_type": "code",
   "execution_count": 102,
   "metadata": {},
   "outputs": [
    {
     "data": {
      "text/plain": [
       "198.68707462036383"
      ]
     },
     "execution_count": 102,
     "metadata": {},
     "output_type": "execute_result"
    }
   ],
   "source": [
    "linmodel4 = linear_model.LinearRegression()\n",
    "linmodel4.fit(X4,y4)\n",
    "ypred4 = linmodel4.predict(X4)\n",
    "mean_squared_error(y4,ypred4)"
   ]
  },
  {
   "cell_type": "code",
   "execution_count": 109,
   "metadata": {},
   "outputs": [],
   "source": [
    "df_test4 = df[(df['DATE']>'2015-1-26') & (df['DATE']<'2015-1-31')]\n",
    "df_test4 = df_test4[df_test4['AIRLINE'] == 'AA']\n",
    "df_test4 = df_test4[['DAY_OF_WEEK','SCHEDULED_DEPARTURE','SCHEDULED_ARRIVAL','ORIGIN_AIRPORT', 'DEPARTURE_DELAY']]\n",
    "df_test4 = df_test4[df_test4['DEPARTURE_DELAY'] <60]\n",
    "\n",
    "test_encoded4 = label_encoder4.transform(df_test3['ORIGIN_AIRPORT'])\n",
    "test_encoded4 = test_encoded4.reshape(len(test_encoded4),1)\n",
    "test_onehot_encoded4 = onehot_encoder4.transform(test_encoded4)\n",
    "\n",
    "test_b4 = np.array(df_test4[['DAY_OF_WEEK','SCHEDULED_DEPARTURE','SCHEDULED_ARRIVAL']])\n",
    "\n",
    "test_X4 = np.hstack((test_onehot_encoded4,test_b4))\n",
    "test_y4 = df_test4['DEPARTURE_DELAY']"
   ]
  },
  {
   "cell_type": "code",
   "execution_count": 110,
   "metadata": {},
   "outputs": [
    {
     "data": {
      "text/plain": [
       "128.85561469830782"
      ]
     },
     "execution_count": 110,
     "metadata": {},
     "output_type": "execute_result"
    }
   ],
   "source": [
    "ridgemodel4 = Ridge(alpha=0.1,normalize = True)\n",
    "poly4 = PolynomialFeatures(degree=2)\n",
    "X_poly4 = poly4.fit_transform(X4)\n",
    "\n",
    "ridgemodel4.fit(X_poly4,y4)\n",
    "\n",
    "test_X_poly4 = poly4.fit_transform(test_X4)\n",
    "test_pred4 = ridgemodel4.predict(test_X_poly4)\n",
    "mean_squared_error(test_y4,test_pred4)\n"
   ]
  }
 ],
 "metadata": {
  "kernelspec": {
   "display_name": "Python 3",
   "language": "python",
   "name": "python3"
  },
  "language_info": {
   "codemirror_mode": {
    "name": "ipython",
    "version": 3
   },
   "file_extension": ".py",
   "mimetype": "text/x-python",
   "name": "python",
   "nbconvert_exporter": "python",
   "pygments_lexer": "ipython3",
   "version": "3.6.4"
  }
 },
 "nbformat": 4,
 "nbformat_minor": 2
}
